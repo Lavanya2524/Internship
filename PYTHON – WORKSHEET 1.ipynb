{
 "cells": [
  {
   "cell_type": "markdown",
   "id": "dec8eda6",
   "metadata": {},
   "source": [
    "# PYTHON – WORKSHEET 1"
   ]
  },
  {
   "cell_type": "markdown",
   "id": "51a73fec",
   "metadata": {},
   "source": [
    "1. Which of the following operators is used to calculate remainder in a division?\n",
    "AnswerC)%"
   ]
  },
  {
   "cell_type": "code",
   "execution_count": 9,
   "id": "3334ff45",
   "metadata": {},
   "outputs": [
    {
     "data": {
      "text/plain": [
       "2"
      ]
     },
     "execution_count": 9,
     "metadata": {},
     "output_type": "execute_result"
    }
   ],
   "source": [
    "5%3"
   ]
  },
  {
   "cell_type": "markdown",
   "id": "0c020081",
   "metadata": {},
   "source": [
    "2. In python 2//3 is equal to?\n",
    "AnswerB)0"
   ]
  },
  {
   "cell_type": "code",
   "execution_count": 14,
   "id": "43f7155d",
   "metadata": {},
   "outputs": [
    {
     "data": {
      "text/plain": [
       "0"
      ]
     },
     "execution_count": 14,
     "metadata": {},
     "output_type": "execute_result"
    }
   ],
   "source": [
    "2//3"
   ]
  },
  {
   "cell_type": "code",
   "execution_count": null,
   "id": "9329e71c",
   "metadata": {},
   "outputs": [],
   "source": [
    "3. In python, 6<<2 is equal to?\n"
   ]
  },
  {
   "cell_type": "code",
   "execution_count": 15,
   "id": "d7afc597",
   "metadata": {},
   "outputs": [
    {
     "data": {
      "text/plain": [
       "24"
      ]
     },
     "execution_count": 15,
     "metadata": {},
     "output_type": "execute_result"
    }
   ],
   "source": [
    "6<<2"
   ]
  },
  {
   "cell_type": "code",
   "execution_count": null,
   "id": "f563c04b",
   "metadata": {},
   "outputs": [],
   "source": [
    "4. In python, 6&2 will give which of the following as output?\n"
   ]
  },
  {
   "cell_type": "code",
   "execution_count": 16,
   "id": "69a94e2d",
   "metadata": {},
   "outputs": [
    {
     "data": {
      "text/plain": [
       "2"
      ]
     },
     "execution_count": 16,
     "metadata": {},
     "output_type": "execute_result"
    }
   ],
   "source": [
    "6&2"
   ]
  },
  {
   "cell_type": "markdown",
   "id": "a2f88d0b",
   "metadata": {},
   "source": [
    "5. In python, 6|2 will give which of the following as output?\n"
   ]
  },
  {
   "cell_type": "code",
   "execution_count": 1,
   "id": "20499818",
   "metadata": {},
   "outputs": [
    {
     "data": {
      "text/plain": [
       "6"
      ]
     },
     "execution_count": 1,
     "metadata": {},
     "output_type": "execute_result"
    }
   ],
   "source": [
    "6|2"
   ]
  },
  {
   "cell_type": "markdown",
   "id": "9603784e",
   "metadata": {},
   "source": [
    "6. What does the finally keyword denotes in python?\n",
    "C) the finally block will be executed no matter if the try block raises an error or not.\n",
    "\n"
   ]
  },
  {
   "cell_type": "code",
   "execution_count": null,
   "id": "e72c71fe",
   "metadata": {},
   "outputs": [],
   "source": []
  },
  {
   "cell_type": "markdown",
   "id": "e7b63675",
   "metadata": {},
   "source": [
    "7. What does raise keyword is used for in python?\n",
    "A) It is used to raise an exception. \n"
   ]
  },
  {
   "cell_type": "code",
   "execution_count": null,
   "id": "dc50df64",
   "metadata": {},
   "outputs": [],
   "source": []
  },
  {
   "cell_type": "markdown",
   "id": "f23b35d7",
   "metadata": {},
   "source": [
    "8. Which of the following is a common use case of yield keyword in python?\n",
    "C) in defining a generator \n"
   ]
  },
  {
   "cell_type": "code",
   "execution_count": null,
   "id": "08ef07d3",
   "metadata": {},
   "outputs": [],
   "source": []
  },
  {
   "cell_type": "markdown",
   "id": "42e1d7db",
   "metadata": {},
   "source": [
    "9. Which of the following are the valid variable names?\n",
    "abc2 and _abc are valid variable names"
   ]
  },
  {
   "cell_type": "code",
   "execution_count": 2,
   "id": "31e3ad46",
   "metadata": {},
   "outputs": [
    {
     "name": "stdout",
     "output_type": "stream",
     "text": [
      "5\n"
     ]
    }
   ],
   "source": [
    "abc2=5\n",
    "print(abc2)"
   ]
  },
  {
   "cell_type": "code",
   "execution_count": 3,
   "id": "8c69d5b5",
   "metadata": {},
   "outputs": [
    {
     "name": "stdout",
     "output_type": "stream",
     "text": [
      "5\n"
     ]
    }
   ],
   "source": [
    "_abc=5\n",
    "print(_abc)"
   ]
  },
  {
   "cell_type": "code",
   "execution_count": null,
   "id": "2f34f924",
   "metadata": {},
   "outputs": [],
   "source": []
  },
  {
   "cell_type": "markdown",
   "id": "1337173e",
   "metadata": {},
   "source": [
    "10. Which of the following are the keywords in python?\n",
    "yield and raise are Python keywords"
   ]
  },
  {
   "cell_type": "markdown",
   "id": "ea4086fb",
   "metadata": {},
   "source": [
    "A) yield B) raise\n"
   ]
  },
  {
   "cell_type": "code",
   "execution_count": null,
   "id": "5a138169",
   "metadata": {},
   "outputs": [],
   "source": []
  },
  {
   "cell_type": "markdown",
   "id": "5da4b3fe",
   "metadata": {},
   "source": [
    "11. Write a python program to find the factorial of a number.\n"
   ]
  },
  {
   "cell_type": "code",
   "execution_count": 22,
   "id": "8b1a3313",
   "metadata": {},
   "outputs": [
    {
     "name": "stdout",
     "output_type": "stream",
     "text": [
      "Enter the number:5\n",
      "Factorial of 5 is 120\n"
     ]
    }
   ],
   "source": [
    "import math  \n",
    "\n",
    "num = int(input(\"Enter the number:\"))  \n",
    "\n",
    "def fact(n):  \n",
    "    return(math.factorial(n))  \n",
    "f = fact(num)  \n",
    "print(\"Factorial of\", num, \"is\", f)"
   ]
  },
  {
   "cell_type": "code",
   "execution_count": null,
   "id": "21b9a07b",
   "metadata": {},
   "outputs": [],
   "source": []
  },
  {
   "cell_type": "markdown",
   "id": "bd2445c5",
   "metadata": {},
   "source": [
    "12. Write a python program to find whether a number is prime or composite.\n"
   ]
  },
  {
   "cell_type": "code",
   "execution_count": 19,
   "id": "a80418fd",
   "metadata": {},
   "outputs": [
    {
     "name": "stdout",
     "output_type": "stream",
     "text": [
      "5\n",
      "5 is a prime number\n"
     ]
    }
   ],
   "source": [
    "num =int(input())\n",
    "if num > 1:\n",
    "    for i in range(2, (num//2)+1):\n",
    "       if (num % i) == 0:\n",
    "            print(num, \"is not a prime number\")\n",
    "            break\n",
    "    else:\n",
    "        print(num, \"is a prime number\")\n",
    "else:\n",
    "    print(num, \"is not a prime number\")\n"
   ]
  },
  {
   "cell_type": "code",
   "execution_count": null,
   "id": "b6c76d37",
   "metadata": {},
   "outputs": [],
   "source": []
  },
  {
   "cell_type": "markdown",
   "id": "67e28de4",
   "metadata": {},
   "source": [
    "13. Write a python program to check whether a given string is palindrome or not.\n"
   ]
  },
  {
   "cell_type": "code",
   "execution_count": 24,
   "id": "fc1c088e",
   "metadata": {},
   "outputs": [
    {
     "name": "stdout",
     "output_type": "stream",
     "text": [
      "Enter a string : strgrts\n",
      "Yes\n"
     ]
    }
   ],
   "source": [
    "def isPalindrome(s):\n",
    "    return s == s[::-1]\n",
    "\n",
    "s = str(input(\"Enter a string : \"))\n",
    "ans = isPalindrome(s)\n",
    "\n",
    "if ans:\n",
    "    print(\"Yes\")\n",
    "else:\n",
    "    print(\"No\")\n"
   ]
  },
  {
   "cell_type": "code",
   "execution_count": null,
   "id": "4ca9fc0e",
   "metadata": {},
   "outputs": [],
   "source": []
  },
  {
   "cell_type": "markdown",
   "id": "e6547129",
   "metadata": {},
   "source": [
    "14. Write a Python program to get the third side of right-angled triangle from two given sides.\n"
   ]
  },
  {
   "cell_type": "code",
   "execution_count": 9,
   "id": "99ebd603",
   "metadata": {},
   "outputs": [
    {
     "name": "stdout",
     "output_type": "stream",
     "text": [
      "Enter one side called a : 5.6\n",
      "Enter second side called b : 5.8\n",
      "8.06225774829855\n"
     ]
    }
   ],
   "source": [
    "import math\n",
    "a=float(input(\"Enter one side called a : \"))\n",
    "b=float(input(\"Enter second side called b : \"))\n",
    "c=math.sqrt(a**2 + b**2)\n",
    "print(c)"
   ]
  },
  {
   "cell_type": "code",
   "execution_count": null,
   "id": "1feea416",
   "metadata": {},
   "outputs": [],
   "source": []
  },
  {
   "cell_type": "markdown",
   "id": "2417f5fe",
   "metadata": {},
   "source": [
    "15. Write a python program to print the frequency of each of the characters present in a given string."
   ]
  },
  {
   "cell_type": "code",
   "execution_count": null,
   "id": "dc0702cf",
   "metadata": {},
   "outputs": [],
   "source": []
  },
  {
   "cell_type": "code",
   "execution_count": null,
   "id": "0f428c74",
   "metadata": {},
   "outputs": [],
   "source": [
    "string=str(input(\"Enter a string \"))\n",
    "\n",
    "for i in string:\n",
    "    frequency = string.count(i)\n",
    "    print(str(i) + \": \" + str(frequency), end=\", \")"
   ]
  },
  {
   "cell_type": "code",
   "execution_count": null,
   "id": "3d8aebea",
   "metadata": {},
   "outputs": [],
   "source": []
  },
  {
   "cell_type": "code",
   "execution_count": null,
   "id": "b125158e",
   "metadata": {},
   "outputs": [],
   "source": []
  }
 ],
 "metadata": {
  "kernelspec": {
   "display_name": "Python 3 (ipykernel)",
   "language": "python",
   "name": "python3"
  },
  "language_info": {
   "codemirror_mode": {
    "name": "ipython",
    "version": 3
   },
   "file_extension": ".py",
   "mimetype": "text/x-python",
   "name": "python",
   "nbconvert_exporter": "python",
   "pygments_lexer": "ipython3",
   "version": "3.9.13"
  }
 },
 "nbformat": 4,
 "nbformat_minor": 5
}
